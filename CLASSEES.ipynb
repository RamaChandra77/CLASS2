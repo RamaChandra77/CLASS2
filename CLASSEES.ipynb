{
 "cells": [
  {
   "cell_type": "markdown",
   "id": "e5884a34-f428-4c94-92b8-25e1f0a5a4c3",
   "metadata": {},
   "source": [
    "#### PYTHON CLASSES/OBJECTS\n",
    "###### *Python is an object oriented programming language.*\n",
    "###### *Python is an interpreted,high level,general purpose programming language*.\n",
    "###### *A class is like an object constructor, or a'blueprint' for creating objects*.\n",
    "###### *Class:-A class ia a collection of varuiables & methods. The data can be represented in a class by using variables. The operation can be represented in a class by using methods*.\n",
    "###### *Object:-An object is an instance of a class. The concept of*."
   ]
  },
  {
   "cell_type": "code",
   "execution_count": 1,
   "id": "9c1560b3-c1b9-49c0-ad4b-2494ac3c18ce",
   "metadata": {},
   "outputs": [],
   "source": [
    "#Create a class\n",
    "#To create a class, use the kryword class:\n",
    "\n",
    "class myclass:\n",
    "    x=5"
   ]
  },
  {
   "cell_type": "code",
   "execution_count": 2,
   "id": "446b1334-e877-4305-800c-1739d051a849",
   "metadata": {},
   "outputs": [
    {
     "name": "stdout",
     "output_type": "stream",
     "text": [
      "5\n"
     ]
    }
   ],
   "source": [
    "#Create Object\n",
    "#Now we can the class named myclass to create objects:\n",
    "\n",
    "p1=myclass()\n",
    "print(p1.x)"
   ]
  },
  {
   "cell_type": "markdown",
   "id": "3fca7f1a-5a29-4aae-a9fe-f513cbcf075c",
   "metadata": {},
   "source": [
    "#### THE INIT() FUNCTION\n",
    "##### *:-The init() function is called automatically every time the class is being used to create a new object*."
   ]
  },
  {
   "cell_type": "code",
   "execution_count": 6,
   "id": "5b9497c8-5eac-47a0-8bb9-e3b64ee59afb",
   "metadata": {},
   "outputs": [],
   "source": [
    "class Person:\n",
    "    def __init__(my,name,age):\n",
    "        my.name = name\n",
    "        my.age = age"
   ]
  },
  {
   "cell_type": "code",
   "execution_count": 9,
   "id": "f06bafc8-fbe4-4687-9a0c-a76c0d6e4011",
   "metadata": {},
   "outputs": [
    {
     "name": "stdout",
     "output_type": "stream",
     "text": [
      "rama\n",
      "22\n"
     ]
    }
   ],
   "source": [
    "R = Person('rama',22)\n",
    "print(p1.name)\n",
    "print(p1.age)"
   ]
  },
  {
   "cell_type": "code",
   "execution_count": 5,
   "id": "a8afcec4-e2dc-480d-a2e9-16d739311cec",
   "metadata": {},
   "outputs": [
    {
     "name": "stdout",
     "output_type": "stream",
     "text": [
      "Rama\n"
     ]
    }
   ],
   "source": [
    "class student:\n",
    "    def __init__(r,name):\n",
    "        r.name = name # self.name = Attribute initilised\n",
    "    #(Creating Instance of Students class (Object of creation class))\n",
    "R = student (name='Rama') # name:argument\n",
    "print(R.name) # accessing class attribute through object"
   ]
  },
  {
   "cell_type": "code",
   "execution_count": 6,
   "id": "02aa8789-e087-41ae-995e-23f8c826b484",
   "metadata": {},
   "outputs": [],
   "source": [
    "class student:\n",
    "    def __init__(r,name):\n",
    "        r.name = name\n",
    "R = student(name ='Rama Chandra')\n",
    "B = student(name ='Biswo')"
   ]
  },
  {
   "cell_type": "code",
   "execution_count": 7,
   "id": "9e251c27-ec67-4f87-8f47-e631925a36dc",
   "metadata": {},
   "outputs": [
    {
     "name": "stdout",
     "output_type": "stream",
     "text": [
      "Rama Chandra\n",
      "Biswo\n"
     ]
    }
   ],
   "source": [
    "print(R.name)\n",
    "print(B.name)"
   ]
  },
  {
   "cell_type": "code",
   "execution_count": 9,
   "id": "8b5528e4-b0e7-4957-a547-4f9f98e79ec5",
   "metadata": {},
   "outputs": [
    {
     "name": "stdout",
     "output_type": "stream",
     "text": [
      "Rama\n",
      "22\n"
     ]
    }
   ],
   "source": [
    "class pi:\n",
    "    def __init__(r,name,age):\n",
    "        r.name=name\n",
    "        r.age=age\n",
    "p1=pi('Rama',22)\n",
    "print(p1.name)\n",
    "print(p1.age)"
   ]
  },
  {
   "cell_type": "code",
   "execution_count": 10,
   "id": "b8b6e3a4-2b46-4716-b0a3-c815d7ae7e42",
   "metadata": {},
   "outputs": [],
   "source": [
    "class student:\n",
    "    total=600  #Class Variable\n",
    "    def __init__(r,marks):\n",
    "        r.marks = marks # Corrected the assignment\n",
    "        print('Initialized//////')\n",
    "    def findloss(r):\n",
    "        return r.total - r.marks # Corrected the expression\n",
    "    def findpercentage(r):\n",
    "        return (r.marks / r.total)*100 # Corrected the expression"
   ]
  },
  {
   "cell_type": "code",
   "execution_count": 13,
   "id": "1d13495f-37bf-42d7-829f-71e8571c493f",
   "metadata": {},
   "outputs": [
    {
     "name": "stdout",
     "output_type": "stream",
     "text": [
      "Initialized//////\n",
      "Total marks: 600\n",
      "lost marks: 137\n",
      "Percentage is: 77.16666666666666\n",
      "Percentage is:77.17%\n"
     ]
    }
   ],
   "source": [
    "M = student(marks=463)\n",
    "print('Total marks:',M.total)\n",
    "print('lost marks:',M.findloss())\n",
    "print('Percentage is:',M.findpercentage())\n",
    "print('Percentage is:{:.2f}%'.format(M.findpercentage()))"
   ]
  },
  {
   "cell_type": "markdown",
   "id": "290951f2-86ab-449a-aa08-19c72dcf4165",
   "metadata": {},
   "source": [
    "###### *In the __ init__ method,the two occurrences of seif serve different purpose but both relate to the instance of the class being created.Here's a detailed explanation*:"
   ]
  },
  {
   "cell_type": "markdown",
   "id": "e68f0a74-ff79-421b-b9c8-228f4f988ccc",
   "metadata": {},
   "source": [
    "##### THE __INIT__ METHOD"
   ]
  },
  {
   "cell_type": "code",
   "execution_count": null,
   "id": "3ca4a79d-a072-43e5-8dc3-1f50bba278c8",
   "metadata": {},
   "outputs": [],
   "source": [
    "def __init__(r.marks):\n",
    "    r.marks=marks # Instance variable\n",
    "    print('Initialized....')"
   ]
  },
  {
   "cell_type": "markdown",
   "id": "b0a69cfc-c739-4377-9bef-bea9ea257360",
   "metadata": {},
   "source": [
    "#### BREAKDO\n",
    "###### 1.First seif:\n",
    "###### .In the Method Defination(def__init__(self, Marks):):-.*Here, self is a parameter that refers to the instance of the class that is being created .When you create an instance of Student , for exam a=Student(marks=458) ,self in __init__ refers to this new instance a*."
   ]
  },
  {
   "cell_type": "markdown",
   "id": "43874f3c-790a-4988-a0bf-a7807292a06f",
   "metadata": {},
   "source": [
    "##### Second seif:-\n",
    "##### Inside the method body(self.marks = marks):-\n",
    "###### . Here, self isnused to access and assign an instance variable.Specifically,self.marks creates an attribute named marks for the instance and assigns it the values pased as the marks argument.This means self.marks is an instance variable that will be unique to each instance of the class."
   ]
  },
  {
   "cell_type": "markdown",
   "id": "91d941aa-26ff-4410-8232-b1746b61b4a6",
   "metadata": {},
   "source": [
    "#### Example to illustrate:\n",
    "###### *Let's walk through an example where an instance of the Student class is created*."
   ]
  },
  {
   "cell_type": "markdown",
   "id": "63cda95e-2370-4838-a7cf-412657c73889",
   "metadata": {},
   "source": [
    "###### Class Defination:"
   ]
  },
  {
   "cell_type": "code",
   "execution_count": 19,
   "id": "c0aa39d3-53df-47af-8da6-e1ba7e526097",
   "metadata": {},
   "outputs": [],
   "source": [
    "class student:\n",
    "    def __init__(r,marks):\n",
    "        r.marks = marks # Instance variable\n",
    "        print('Initialized........')"
   ]
  },
  {
   "cell_type": "code",
   "execution_count": 6,
   "id": "13ac2fe5-5b9b-46cb-ae19-66e427d27a51",
   "metadata": {},
   "outputs": [],
   "source": [
    "class Student:\n",
    "    total = 500  #Class Variable\n",
    "    \n",
    "    def __init__(self, name, marks, gender):\n",
    "        self.name = name\n",
    "        self.marks = marks\n",
    "        self.gender = gender \n",
    "        print('Initialized...')\n",
    "    def __len__(self):\n",
    "        return self.marks\n",
    "\n",
    "    def __str__(self):\n",
    "        return 'Name:%s | Marks: %s | gender: %s' %(self.name, self.marks, self.gender)\n",
    "\n",
    "    def __del__(self):\n",
    "        print('Student database is Deleted')\n",
    "  "
   ]
  },
  {
   "cell_type": "code",
   "execution_count": 7,
   "id": "831cd847-490f-4aab-a7ef-e33c43f2dcfc",
   "metadata": {},
   "outputs": [
    {
     "name": "stdout",
     "output_type": "stream",
     "text": [
      "Initialized...\n",
      "Initialized...\n"
     ]
    }
   ],
   "source": [
    "a = Student('champ', '450', 'male')\n",
    "b = Student('biswo', '456', 'Female')"
   ]
  },
  {
   "cell_type": "code",
   "execution_count": 8,
   "id": "5c18e9c2-e892-43c9-8ddb-4ada64b27eda",
   "metadata": {},
   "outputs": [
    {
     "name": "stdout",
     "output_type": "stream",
     "text": [
      "Name:biswo | Marks: 456 | gender: Female\n"
     ]
    }
   ],
   "source": [
    "print(b)"
   ]
  },
  {
   "cell_type": "code",
   "execution_count": 9,
   "id": "ff902eaf-8c9a-457b-823e-b546ec23c342",
   "metadata": {},
   "outputs": [
    {
     "ename": "TypeError",
     "evalue": "'str' object cannot be interpreted as an integer",
     "output_type": "error",
     "traceback": [
      "\u001b[1;31m---------------------------------------------------------------------------\u001b[0m",
      "\u001b[1;31mTypeError\u001b[0m                                 Traceback (most recent call last)",
      "Cell \u001b[1;32mIn[9], line 1\u001b[0m\n\u001b[1;32m----> 1\u001b[0m \u001b[38;5;28mprint\u001b[39m(\u001b[38;5;124m'\u001b[39m\u001b[38;5;124mmarks:\u001b[39m\u001b[38;5;124m'\u001b[39m,\u001b[38;5;28mlen\u001b[39m(a))\n\u001b[0;32m      2\u001b[0m \u001b[38;5;28;01mdel\u001b[39;00m a\n",
      "\u001b[1;31mTypeError\u001b[0m: 'str' object cannot be interpreted as an integer"
     ]
    }
   ],
   "source": [
    "print('marks:',len(a))\n",
    "del a"
   ]
  },
  {
   "cell_type": "code",
   "execution_count": 10,
   "id": "84cb7337-2e15-4ec0-8787-29c58565fd29",
   "metadata": {},
   "outputs": [
    {
     "name": "stdout",
     "output_type": "stream",
     "text": [
      "Name:champ | Marks: 450 | gender: male\n"
     ]
    }
   ],
   "source": [
    "print(a)"
   ]
  },
  {
   "cell_type": "code",
   "execution_count": 11,
   "id": "ab003ddc-e726-4393-af51-ad9b1f32691f",
   "metadata": {},
   "outputs": [
    {
     "name": "stdout",
     "output_type": "stream",
     "text": [
      "Initialized...\n"
     ]
    },
    {
     "data": {
      "text/plain": [
       "150000"
      ]
     },
     "execution_count": 11,
     "metadata": {},
     "output_type": "execute_result"
    }
   ],
   "source": [
    "class StudenT:\n",
    "    Total = 500 # Class Variable\n",
    "    def __init__(a,marks):\n",
    "        a.marks=marks\n",
    "        print('Initialized...')\n",
    "\n",
    "    def mul(self):\n",
    "        return self.marks * self.Total\n",
    "\n",
    "p1 = StudenT(300)\n",
    "p1.mul()"
   ]
  },
  {
   "cell_type": "code",
   "execution_count": 1,
   "id": "7631e666-d946-4ec3-af37-ebf130d89ab2",
   "metadata": {},
   "outputs": [
    {
     "name": "stdout",
     "output_type": "stream",
     "text": [
      "Initialized\n",
      "<__main__.Student object at 0x000001C8F1857190>\n",
      "markas:- 450\n"
     ]
    }
   ],
   "source": [
    "class Student:\n",
    "    Total = 500 # Class variable\n",
    "\n",
    "    def __init__(self, name, marks, gender):\n",
    "        self.name=name\n",
    "        self.marks=marks\n",
    "        self.gender=gender\n",
    "        print('Initialized')\n",
    "\n",
    "    def __len__(b):\n",
    "        return b.marks\n",
    "\n",
    "a = Student('champ',450,'male')\n",
    "print(a)\n",
    "print('markas:-',len(a))"
   ]
  },
  {
   "cell_type": "markdown",
   "id": "30fab972-a9aa-48e0-a739-56df4d0c3d2a",
   "metadata": {},
   "source": [
    "#### Explanation"
   ]
  },
  {
   "cell_type": "markdown",
   "id": "ce3c5d97-028f-4fac-bb41-f60d17a34e08",
   "metadata": {},
   "source": [
    "#### Explanation of the Correct Code"
   ]
  },
  {
   "cell_type": "markdown",
   "id": "c3adbb0b-8ce7-4b2c-89be-6a806e1bf2d0",
   "metadata": {},
   "source": [
    "#### Class Defination:-"
   ]
  },
  {
   "cell_type": "code",
   "execution_count": 2,
   "id": "33c76887-2b1c-416c-8dba-59d84ee3bac3",
   "metadata": {},
   "outputs": [],
   "source": [
    "class Student:\n",
    "    Total = 500 # Class variable"
   ]
  },
  {
   "cell_type": "markdown",
   "id": "90002e51-f948-437f-b52b-c3999d5cb76e",
   "metadata": {},
   "source": [
    "###### .This defines a class named Student.\n",
    "###### .Total = 500 is a class variable shared among all instances of the Student class.it represents a fixed total marks value for all student."
   ]
  },
  {
   "cell_type": "markdown",
   "id": "8ab9336b-e59f-4c45-908f-2aa2cf132650",
   "metadata": {},
   "source": [
    "#### Initializer(__init__ method):-"
   ]
  },
  {
   "cell_type": "code",
   "execution_count": null,
   "id": "4b974aed-ce56-4e98-8944-5d0071216325",
   "metadata": {},
   "outputs": [],
   "source": [
    "def __init__(self, name, marks, gender):\n",
    "    self.name = name\n",
    "    self.marks = marks\n",
    "    self.gender = gender\n",
    "    print('Initialized...')"
   ]
  },
  {
   "cell_type": "markdown",
   "id": "a735aae9-1366-48fe-8325-5e67aacf8f12",
   "metadata": {},
   "source": [
    "###### .This is the initializer method that gets called when a new instance of the Student class is created.\n",
    "###### .It takes three parameters in addition to self:name, marks, gender.\n",
    "###### .it initializes the instance variables self.name, self.marks, and self.gender with the provided values.\n",
    "###### .it prints 'initialized...' when a new Student object is created."
   ]
  },
  {
   "cell_type": "markdown",
   "id": "e317a03c-1c20-4c90-933d-72e4f806b543",
   "metadata": {},
   "source": [
    "#### __len__Method:-"
   ]
  },
  {
   "cell_type": "code",
   "execution_count": 3,
   "id": "9beaf652-34b7-43eb-8a05-d9f9910d2fc2",
   "metadata": {},
   "outputs": [],
   "source": [
    "def __len__(self):\n",
    "    return self.marks"
   ]
  },
  {
   "cell_type": "markdown",
   "id": "1882b450-8d2d-4706-af41-a49efb5109b8",
   "metadata": {},
   "source": [
    "###### .This is a special method that allows the use of the len() function on Student objects.\n",
    "###### .It returns the marks of the student,meaning when you call len(a), it returns a.marks."
   ]
  },
  {
   "cell_type": "markdown",
   "id": "4bee2b3c-103a-467b-8799-c9663546f358",
   "metadata": {},
   "source": [
    "#### __str__Method:-"
   ]
  },
  {
   "cell_type": "code",
   "execution_count": 4,
   "id": "d5407868-d408-4dda-8f12-783d938d09ac",
   "metadata": {},
   "outputs": [],
   "source": [
    "def __str__(self):\n",
    "    return 'Name: %s | Marks: %s | Gender: %s '%(self.name,self.marks,self.gender)"
   ]
  },
  {
   "cell_type": "markdown",
   "id": "7c567d7f-9efa-4788-9447-59f89e14f72a",
   "metadata": {},
   "source": [
    "###### This is a special method that definesthe string representation of the Student object.\n",
    "###### When you print a Student object,it returns a formatted string showing the name,marks,and gender of the student."
   ]
  },
  {
   "cell_type": "markdown",
   "id": "e981beb2-3dc7-4465-8ae2-7354d5c49c79",
   "metadata": {},
   "source": [
    "#### __del__Method:-"
   ]
  },
  {
   "cell_type": "code",
   "execution_count": 5,
   "id": "389d45be-b937-4eb5-af8a-6167b6870a18",
   "metadata": {},
   "outputs": [],
   "source": [
    "def __del__(self):\n",
    "    print('syudent database is deleted')"
   ]
  },
  {
   "cell_type": "markdown",
   "id": "01fd958d-e35b-46af-bc89-6ae71a69ff69",
   "metadata": {},
   "source": [
    "###### .This is the special method called a destructor that hets called when an object is about to be destroyed (When del is used or when the object goes out of scope).\n",
    "###### .it prints\"Student Database is Deleted\"when the Student object is deleted."
   ]
  },
  {
   "cell_type": "markdown",
   "id": "c520e7a7-667e-48ee-a705-d19c54384180",
   "metadata": {},
   "source": [
    "#### Creating  and using a Student Object:"
   ]
  },
  {
   "cell_type": "code",
   "execution_count": null,
   "id": "acde5fff-783e-4647-acb8-b47dc36da820",
   "metadata": {},
   "outputs": [],
   "source": [
    "a = Student ('champ',450,'male')"
   ]
  },
  {
   "cell_type": "markdown",
   "id": "bb71c9b2-578c-4ea2-821e-37c5b56dea37",
   "metadata": {},
   "source": [
    "###### .This creates anew Student object with the name 'champ',marks 450, and gender 'male'\n",
    "###### .it calls the __init__ method which initializes the object and prints 'initialized...'"
   ]
  },
  {
   "cell_type": "markdown",
   "id": "ea97f1bc-9508-46f4-8264-a8222d429d42",
   "metadata": {},
   "source": [
    "#### Printing the student Object:"
   ]
  },
  {
   "cell_type": "markdown",
   "id": "18decb80-3a64-4685-af6f-9db526f01e7c",
   "metadata": {},
   "source": [
    "print(a)\n",
    "###### .This calls the __len__ method and prints the marks of the student object :\n",
    "###### Name: champ | marks:450 |Gender:male"
   ]
  },
  {
   "cell_type": "markdown",
   "id": "ecf0e51c-30af-4d55-9b7b-611aff9f14cd",
   "metadata": {},
   "source": [
    "#### Getting the length of the student Object:"
   ]
  },
  {
   "cell_type": "markdown",
   "id": "1fdbcbd7-2b33-4a34-83c8-f7a87b1e163b",
   "metadata": {},
   "source": [
    "print('marks:',len(a))\n",
    "###### .This calls the __len__ method and priunts the marks of the student: marks: 450"
   ]
  },
  {
   "cell_type": "markdown",
   "id": "7ea6826a-ee6b-4eb9-8581-db421b1db72c",
   "metadata": {},
   "source": [
    "#### Deleting the student Object:"
   ]
  },
  {
   "cell_type": "markdown",
   "id": "05b060ba-73c1-4206-bfb3-3adf7f989e32",
   "metadata": {},
   "source": [
    "del a \n",
    "###### .This calls the __del__ method and deletes the student object,printing:\n",
    "###### student datbase is Deleted \n",
    "###### This code demonstrates the use of specil methods in Pyrhon to customize the behivour of objects for initialization, string representation, length calculation and object deletion."
   ]
  },
  {
   "cell_type": "markdown",
   "id": "116dcd12-6952-4626-95b7-de1a093ec0e1",
   "metadata": {},
   "source": [
    "## The self parameter"
   ]
  },
  {
   "cell_type": "markdown",
   "id": "7aa19af2-3465-45f2-9d25-237f8c84d255",
   "metadata": {},
   "source": [
    "###### The self parameter is a reference to the current instance of the class, and is used to access variables that belongs to the class.\n",
    "###### it does not have to be named self,you can call it whatever you like,but it has to be the first parameter of any function in the class:"
   ]
  },
  {
   "cell_type": "code",
   "execution_count": 7,
   "id": "d6169c03-032d-4d24-8e11-9e49792673c6",
   "metadata": {},
   "outputs": [
    {
     "name": "stdout",
     "output_type": "stream",
     "text": [
      "hello my name is Rama 22\n"
     ]
    }
   ],
   "source": [
    "class Person:\n",
    "    def __init__(mysillyobject, name, age):\n",
    "        mysillyobject.name = name\n",
    "        mysillyobject.age = age\n",
    "\n",
    "    def myfunc(abc):\n",
    "        print('hello my name is '+ abc.name, + abc.age)\n",
    "\n",
    "p1 = Person('Rama',22)\n",
    "p1.myfunc()"
   ]
  },
  {
   "cell_type": "code",
   "execution_count": 8,
   "id": "d39c82b9-57eb-4604-9528-d30875769acd",
   "metadata": {},
   "outputs": [
    {
     "name": "stdout",
     "output_type": "stream",
     "text": [
      "hello my name is Rama 40\n"
     ]
    }
   ],
   "source": [
    "#modify object properties\n",
    "#set the age of p1 to 40:\n",
    "\n",
    "p1.age = 40\n",
    "p1.myfunc()"
   ]
  },
  {
   "cell_type": "markdown",
   "id": "1c46c5c5-4d54-4555-9d9f-2d89cb65879a",
   "metadata": {},
   "source": [
    "## Delete Object Properties"
   ]
  },
  {
   "cell_type": "markdown",
   "id": "31c76b98-374e-4914-94be-c3c0993414ee",
   "metadata": {},
   "source": [
    "###### Delete the age property from the p1 object:"
   ]
  },
  {
   "cell_type": "code",
   "execution_count": 9,
   "id": "bc4b88f8-afc7-413f-8bd1-1e00f7702049",
   "metadata": {},
   "outputs": [
    {
     "ename": "AttributeError",
     "evalue": "'Person' object has no attribute 'age'",
     "output_type": "error",
     "traceback": [
      "\u001b[1;31m---------------------------------------------------------------------------\u001b[0m",
      "\u001b[1;31mAttributeError\u001b[0m                            Traceback (most recent call last)",
      "Cell \u001b[1;32mIn[9], line 2\u001b[0m\n\u001b[0;32m      1\u001b[0m \u001b[38;5;28;01mdel\u001b[39;00m p1\u001b[38;5;241m.\u001b[39mage\n\u001b[1;32m----> 2\u001b[0m p1\u001b[38;5;241m.\u001b[39mmyfunc()\n",
      "Cell \u001b[1;32mIn[7], line 7\u001b[0m, in \u001b[0;36mPerson.myfunc\u001b[1;34m(abc)\u001b[0m\n\u001b[0;32m      6\u001b[0m \u001b[38;5;28;01mdef\u001b[39;00m \u001b[38;5;21mmyfunc\u001b[39m(abc):\n\u001b[1;32m----> 7\u001b[0m     \u001b[38;5;28mprint\u001b[39m(\u001b[38;5;124m'\u001b[39m\u001b[38;5;124mhello my name is \u001b[39m\u001b[38;5;124m'\u001b[39m\u001b[38;5;241m+\u001b[39m abc\u001b[38;5;241m.\u001b[39mname, \u001b[38;5;241m+\u001b[39m abc\u001b[38;5;241m.\u001b[39mage)\n",
      "\u001b[1;31mAttributeError\u001b[0m: 'Person' object has no attribute 'age'"
     ]
    }
   ],
   "source": [
    "del p1.age\n",
    "p1.myfunc()"
   ]
  },
  {
   "cell_type": "markdown",
   "id": "e73afe4f-b794-474f-80f6-3e4deeb24941",
   "metadata": {},
   "source": [
    "## Delete Objects\n",
    "###### You can delete objects by using the del keyword:"
   ]
  },
  {
   "cell_type": "code",
   "execution_count": 10,
   "id": "beb4329c-5aa2-43ae-94fa-51bc98cc96ef",
   "metadata": {},
   "outputs": [
    {
     "ename": "NameError",
     "evalue": "name 'p1' is not defined",
     "output_type": "error",
     "traceback": [
      "\u001b[1;31m---------------------------------------------------------------------------\u001b[0m",
      "\u001b[1;31mNameError\u001b[0m                                 Traceback (most recent call last)",
      "Cell \u001b[1;32mIn[10], line 2\u001b[0m\n\u001b[0;32m      1\u001b[0m \u001b[38;5;28;01mdel\u001b[39;00m p1\n\u001b[1;32m----> 2\u001b[0m p1\u001b[38;5;241m.\u001b[39mmyfunc()\n",
      "\u001b[1;31mNameError\u001b[0m: name 'p1' is not defined"
     ]
    }
   ],
   "source": [
    "del p1\n",
    "p1.myfunc()"
   ]
  },
  {
   "cell_type": "markdown",
   "id": "f8cdf9ab-2318-4781-9078-c6deec0d61b3",
   "metadata": {},
   "source": [
    "## The pass Statement"
   ]
  },
  {
   "cell_type": "markdown",
   "id": "4a3c6e44-41ad-4824-86e6-fb54eb922754",
   "metadata": {},
   "source": [
    "###### class defination cannot be empty , but if you for some reason have a class defination with no content ,put in the pass statement to avoid getting an error."
   ]
  },
  {
   "cell_type": "code",
   "execution_count": 11,
   "id": "b53f5db6-328a-427e-ad16-109a7a866b2c",
   "metadata": {},
   "outputs": [],
   "source": [
    "class Person:\n",
    "    pass\n",
    "# havimg an empty class defination like this, would raise an error without "
   ]
  },
  {
   "cell_type": "code",
   "execution_count": 12,
   "id": "e710c29f-e5a5-41ae-b0b1-88b89bb195b6",
   "metadata": {},
   "outputs": [
    {
     "ename": "SyntaxError",
     "evalue": "incomplete input (3523702532.py, line 1)",
     "output_type": "error",
     "traceback": [
      "\u001b[1;36m  Cell \u001b[1;32mIn[12], line 1\u001b[1;36m\u001b[0m\n\u001b[1;33m    class Person:\u001b[0m\n\u001b[1;37m                 ^\u001b[0m\n\u001b[1;31mSyntaxError\u001b[0m\u001b[1;31m:\u001b[0m incomplete input\n"
     ]
    }
   ],
   "source": [
    "class Person:"
   ]
  },
  {
   "cell_type": "markdown",
   "id": "313360c9-f8e2-4975-b74d-8cbbb757088b",
   "metadata": {},
   "source": [
    "## create a Parent Class\n",
    "###### Any class can be parent class,so the syntax is the same as creating any other class:"
   ]
  },
  {
   "cell_type": "code",
   "execution_count": 13,
   "id": "ca02cd29-13af-402c-a367-38d92838117d",
   "metadata": {},
   "outputs": [
    {
     "name": "stdout",
     "output_type": "stream",
     "text": [
      "Rama biswo\n"
     ]
    }
   ],
   "source": [
    "# Create a class named person,with firstname and lastname properties, and a\n",
    "class Person:\n",
    "    def __init__(self, fname, lname):\n",
    "        self.firstname = fname\n",
    "        self.lastname = lname\n",
    "    def printname(self):\n",
    "        print(self.firstname, self.lastname)\n",
    "#Use the person class to create an object, and then execute the printname\n",
    "\n",
    "x = Person('Rama','biswo')\n",
    "x.printname()"
   ]
  },
  {
   "cell_type": "markdown",
   "id": "749c998f-398e-4635-bbbd-8eda12fd6e0f",
   "metadata": {},
   "source": [
    "## Create a Child Class"
   ]
  },
  {
   "cell_type": "markdown",
   "id": "860cdbbd-7aca-4526-a31f-c1a1091d0a07",
   "metadata": {},
   "source": [
    "###### To create a class that inherites the the functionality from another class,send the parent class as a parameter when creating the child class:"
   ]
  },
  {
   "cell_type": "code",
   "execution_count": 14,
   "id": "85944a7b-17ac-45a6-aa34-eeb1bc00f93c",
   "metadata": {},
   "outputs": [
    {
     "ename": "NameError",
     "evalue": "name 'Name' is not defined",
     "output_type": "error",
     "traceback": [
      "\u001b[1;31m---------------------------------------------------------------------------\u001b[0m",
      "\u001b[1;31mNameError\u001b[0m                                 Traceback (most recent call last)",
      "Cell \u001b[1;32mIn[14], line 2\u001b[0m\n\u001b[0;32m      1\u001b[0m \u001b[38;5;66;03m# Create a class named Student, which will inherit the properties and methods\u001b[39;00m\n\u001b[1;32m----> 2\u001b[0m \u001b[38;5;28;01mclass\u001b[39;00m \u001b[38;5;21;01mStudent\u001b[39;00m(Name):\n\u001b[0;32m      3\u001b[0m     \u001b[38;5;28;01mpass\u001b[39;00m\n\u001b[0;32m      4\u001b[0m x \u001b[38;5;241m=\u001b[39m Student(\u001b[38;5;124m'\u001b[39m\u001b[38;5;124mRama\u001b[39m\u001b[38;5;124m'\u001b[39m,\u001b[38;5;124m'\u001b[39m\u001b[38;5;124mRaja\u001b[39m\u001b[38;5;124m'\u001b[39m)\n",
      "\u001b[1;31mNameError\u001b[0m: name 'Name' is not defined"
     ]
    }
   ],
   "source": [
    "# Create a class named Student, which will inherit the properties and methods\n",
    "class Student(Person):\n",
    "    pass\n",
    "x = Student('Rama','Raja')\n",
    "x.printname()"
   ]
  },
  {
   "cell_type": "markdown",
   "id": "1fef3c4d-7a43-4cc0-84bc-14a7e2067cb1",
   "metadata": {},
   "source": [
    "## Add the init() Function"
   ]
  },
  {
   "cell_type": "markdown",
   "id": "8636dce6-b969-4861-9f05-38efeff5932c",
   "metadata": {},
   "source": [
    "###### So far we have created a child class that inherits the prooerties and methods from its parent.\n",
    "###### WE want to add the init() function to the child class (instead of the pass keyword).\n",
    "###### Note:-The init() function is called automatically every time the class is being used to create a new object."
   ]
  },
  {
   "cell_type": "code",
   "execution_count": null,
   "id": "3ff8ee23-4157-4731-8bd0-2b75f2c7d445",
   "metadata": {},
   "outputs": [],
   "source": [
    "# Add the __init__() function to the Student class.\n",
    "class Student(person):\n",
    "    def __init__(self, fname, lname):\n",
    "        pass\n",
    "\n",
    "# add properties etc"
   ]
  },
  {
   "cell_type": "markdown",
   "id": "01158946-1fcb-4621-99e2-f6e5d95d52a5",
   "metadata": {},
   "source": [
    "###### When you add the __init__() function, the child will no longer inherit the parent's __init__() function.\n",
    "###### Note:-The child's __init__() function overrides the inheritance of the parent's __init__() function.\n",
    "###### To keep the inheritance of the parent's __init__() function, add a call to the parent's __init__() function:"
   ]
  },
  {
   "cell_type": "code",
   "execution_count": 18,
   "id": "dd36bacf-413a-45df-b616-1df2a10cfb39",
   "metadata": {},
   "outputs": [
    {
     "ename": "SyntaxError",
     "evalue": "'return' outside function (3260469065.py, line 4)",
     "output_type": "error",
     "traceback": [
      "\u001b[1;36m  Cell \u001b[1;32mIn[18], line 4\u001b[1;36m\u001b[0m\n\u001b[1;33m    return PERSON\u001b[0m\n\u001b[1;37m    ^\u001b[0m\n\u001b[1;31mSyntaxError\u001b[0m\u001b[1;31m:\u001b[0m 'return' outside function\n"
     ]
    }
   ],
   "source": [
    "class STUDENT(PERSON):\n",
    "    def __init__(self, fname, lname):\n",
    "        PERSON.__init__(self, fname, lname)\n",
    "    return PERSON\n",
    "\n",
    "x = STUDENT('Rama','raja')\n",
    "x.printname()"
   ]
  },
  {
   "cell_type": "markdown",
   "id": "ce0c9929-7be3-401e-a8ea-71e6054c3350",
   "metadata": {},
   "source": [
    "## use the super() Function"
   ]
  },
  {
   "cell_type": "markdown",
   "id": "c84defb9-7146-4c85-99a7-577c2c3c00bc",
   "metadata": {},
   "source": [
    "###### Python also has a super() function that will make the child class inherit all the methods and properties from its parent:"
   ]
  },
  {
   "cell_type": "code",
   "execution_count": null,
   "id": "988ec63e-bd0d-4dde-b029-40949f93077c",
   "metadata": {},
   "outputs": [],
   "source": [
    "class Student(Person):\n",
    "    def __init__(self, fname, lname):\n",
    "        super().__init__(fname, lname)\n",
    "\n",
    "# By using the super() function, you do not have to use the name parent"
   ]
  },
  {
   "cell_type": "markdown",
   "id": "ea58312b-75e3-4a61-a2a3-f5b5c6c1a029",
   "metadata": {},
   "source": [
    "## Add Properties"
   ]
  },
  {
   "cell_type": "code",
   "execution_count": 20,
   "id": "2145d4e0-7ffe-41f3-bc21-9dccfe71c725",
   "metadata": {},
   "outputs": [
    {
     "name": "stdout",
     "output_type": "stream",
     "text": [
      "2019\n"
     ]
    },
    {
     "ename": "AttributeError",
     "evalue": "'Student' object has no attribute 'printname'",
     "output_type": "error",
     "traceback": [
      "\u001b[1;31m---------------------------------------------------------------------------\u001b[0m",
      "\u001b[1;31mAttributeError\u001b[0m                            Traceback (most recent call last)",
      "Cell \u001b[1;32mIn[20], line 16\u001b[0m\n\u001b[0;32m     14\u001b[0m x \u001b[38;5;241m=\u001b[39m Student(\u001b[38;5;124m'\u001b[39m\u001b[38;5;124mRama\u001b[39m\u001b[38;5;124m'\u001b[39m,\u001b[38;5;124m'\u001b[39m\u001b[38;5;124mRaja\u001b[39m\u001b[38;5;124m'\u001b[39m)\n\u001b[0;32m     15\u001b[0m \u001b[38;5;28mprint\u001b[39m(x\u001b[38;5;241m.\u001b[39mgraduationyear)\n\u001b[1;32m---> 16\u001b[0m x\u001b[38;5;241m.\u001b[39mprintname()\n",
      "\u001b[1;31mAttributeError\u001b[0m: 'Student' object has no attribute 'printname'"
     ]
    }
   ],
   "source": [
    "#Add a property called graduation year to  the Student class:\n",
    "class Person:\n",
    "    def __init__(self, fname, lname):\n",
    "        self.firstname = fname\n",
    "        self.lastname = lname\n",
    "    def pritname(self):\n",
    "        print(self.firstname, self.lastname)\n",
    "\n",
    "class Student(Person):\n",
    "    def __init__(self, fname, lname):\n",
    "        super().__init__(fname, lname)\n",
    "        self.graduationyear = 2019\n",
    "\n",
    "x = Student('Rama','Raja')\n",
    "print(x.graduationyear)\n",
    "x.printname()"
   ]
  },
  {
   "cell_type": "code",
   "execution_count": null,
   "id": "066bf3f0-a2d5-45bc-b3e1-73b850310340",
   "metadata": {},
   "outputs": [],
   "source": [
    "# In the example below, the year 2019 should be a variable,\n",
    "# And passed into the Student class when creating student objects.To do so,\n",
    "# Add a year parameter, and pass the correct year when creating objects:\n",
    "\n"
   ]
  },
  {
   "cell_type": "code",
   "execution_count": 21,
   "id": "9adc0369-e5a7-40b8-bab7-e293fc4b7ca3",
   "metadata": {},
   "outputs": [
    {
     "name": "stdout",
     "output_type": "stream",
     "text": [
      "2019\n"
     ]
    }
   ],
   "source": [
    "class person:\n",
    "    def __init__(self, fname, lname):\n",
    "        self.firstname = fname\n",
    "        self.lastname = lname\n",
    "\n",
    "    def printname(self):\n",
    "        print(self.firstname, self.lastname)\n",
    "\n",
    "class student(person):\n",
    "    def __init__(self, fname, lname, year):\n",
    "        super().__init__(fname, lname)\n",
    "        self.graduationyear =year\n",
    "\n",
    "x = student('Rama', 'raja', 2019)\n",
    "print(x.graduationyear)"
   ]
  },
  {
   "cell_type": "markdown",
   "id": "b853cfc5-72c8-4924-9345-64fb9a92b130",
   "metadata": {},
   "source": [
    "## Add Method"
   ]
  },
  {
   "cell_type": "code",
   "execution_count": 23,
   "id": "a417395a-7b81-4b10-9d69-34aaf92c10a0",
   "metadata": {},
   "outputs": [
    {
     "name": "stdout",
     "output_type": "stream",
     "text": [
      "welcome Rama Raja to the clas of 2019\n"
     ]
    }
   ],
   "source": [
    "# Add a method called welcome to the Student class:\n",
    "\n",
    "class person:\n",
    "    def __init__(self, fname, lname):\n",
    "        self.firstname = fname\n",
    "        self.lastname = lname\n",
    "\n",
    "    def printname(self):\n",
    "        print(self.firstname, self.lastname)\n",
    "\n",
    "class student(person):\n",
    "    def __init__(self, fname, lname, year):\n",
    "        super().__init__(fname, lname)\n",
    "        self.graduationyear = year\n",
    "\n",
    "    def welcome(self):\n",
    "        print('welcome',self.firstname, self.lastname,'to the clas of',self.graduationyear)\n",
    "\n",
    "x = student('Rama','Raja',2019)\n",
    "x.welcome()"
   ]
  },
  {
   "cell_type": "markdown",
   "id": "80718a9f-1a6e-4917-940d-e1e295c77682",
   "metadata": {},
   "source": [
    "### Inheritance - Help to reduce complexity of the program"
   ]
  },
  {
   "cell_type": "markdown",
   "id": "eee8b9fa-b78e-4970-a17e-754314ca510d",
   "metadata": {},
   "source": [
    "## Python Inheritance"
   ]
  },
  {
   "cell_type": "markdown",
   "id": "71fc048a-a5db-41d8-95f6-c11862c3a64a",
   "metadata": {},
   "source": [
    "###### Inheritance allows us to define a class that inherits all the methods and properties from another class.\n",
    "###### Parent class is the class being inherited from, also called base class.\n",
    "###### Child class is the class that inherits from another class, also called derived class."
   ]
  },
  {
   "cell_type": "markdown",
   "id": "33122c8d-6ef8-49a0-aebe-3d01b8255e13",
   "metadata": {},
   "source": [
    "###### Base Class & Derived Class:"
   ]
  },
  {
   "cell_type": "code",
   "execution_count": 24,
   "id": "79a6d108-0caf-431a-9642-95dd2cfec190",
   "metadata": {},
   "outputs": [],
   "source": [
    "class Elon:\n",
    "    def __init__(self):\n",
    "        print('profile created')\n",
    "\n",
    "    def name(self):\n",
    "        print('Elon Musk')\n",
    "\n",
    "    def age(self):\n",
    "        print('48')"
   ]
  },
  {
   "cell_type": "code",
   "execution_count": 25,
   "id": "fbfa4c7e-b96f-4d48-837e-49b35afab115",
   "metadata": {},
   "outputs": [],
   "source": [
    "class spaceX(Elon):\n",
    "    def __init__(self):\n",
    "        super().__init__() # Correctly an instance of the SpaceX class\n",
    "        print('Company profile created')\n",
    "\n",
    "    def name(self):\n",
    "        print('spaceX')\n",
    "        \n",
    "    def type(self):\n",
    "        print('Private space Travel')"
   ]
  },
  {
   "cell_type": "code",
   "execution_count": 27,
   "id": "592d823c-67ac-4b3d-87ca-5dbac8f6875d",
   "metadata": {},
   "outputs": [
    {
     "name": "stdout",
     "output_type": "stream",
     "text": [
      "profile created\n",
      "Company profile created\n",
      "spaceX\n",
      "48\n",
      "Private space Travel\n"
     ]
    }
   ],
   "source": [
    "# Creating an instance of the SpaceX class\n",
    "spaceX_profile = spaceX()\n",
    "\n",
    "# Calling methods on the instance\n",
    "spaceX_profile.name()\n",
    "spaceX_profile.age()\n",
    "spaceX_profile.type()"
   ]
  },
  {
   "cell_type": "code",
   "execution_count": 28,
   "id": "dea19de2-82af-4ee2-a2c0-996914d31a75",
   "metadata": {},
   "outputs": [
    {
     "name": "stdout",
     "output_type": "stream",
     "text": [
      "profile created\n",
      "Company profile created\n"
     ]
    }
   ],
   "source": [
    "a = spaceX()"
   ]
  },
  {
   "cell_type": "markdown",
   "id": "4ddb9cf1-400a-468b-8333-65c90470bd70",
   "metadata": {},
   "source": [
    "###### Let'sbreak down and explain the provided code which demostrates class inheritance in Python."
   ]
  },
  {
   "cell_type": "markdown",
   "id": "862b6496-a91f-4aca-9a66-42c765f95beb",
   "metadata": {},
   "source": [
    "#### Class Defination"
   ]
  },
  {
   "cell_type": "markdown",
   "id": "8a7c263e-82b7-4993-a89a-6c10224df24f",
   "metadata": {},
   "source": [
    "###### 1.Class Elon:"
   ]
  },
  {
   "cell_type": "code",
   "execution_count": 29,
   "id": "0ecb4fcc-7e50-4746-94b9-b6c41751abd7",
   "metadata": {},
   "outputs": [],
   "source": [
    "class Elon:\n",
    "    def __init__(self):\n",
    "        print('profile created')\n",
    "\n",
    "    def name(self):\n",
    "        print('Elon musk')\n",
    "\n",
    "    def age(self):\n",
    "        print('40')"
   ]
  },
  {
   "cell_type": "markdown",
   "id": "5b9cbe0b-a35b-4272-a6ae-4619a949e43e",
   "metadata": {},
   "source": [
    "###### .__init__ method:-This constructor method prints \"profile created\"when an instance of Elon is created.\n",
    "###### .name method:-This method prints \"Elon Musk\".\n",
    "###### .age method:-This method print\"40\".\n",
    "###### 2.Class SpaceX(inherits from Elon)"
   ]
  },
  {
   "cell_type": "code",
   "execution_count": 30,
   "id": "3dc88874-9a4b-4abc-8c52-fd6e23ac43f1",
   "metadata": {},
   "outputs": [],
   "source": [
    "class spaceX(Elon):\n",
    "    def __init__(self):\n",
    "        super().__init__()\n",
    "        print('Company profile created')\n",
    "\n",
    "    def namee(self):\n",
    "        print('spaceX')\n",
    "\n",
    "    def type(self):\n",
    "        print('private space travel')"
   ]
  },
  {
   "cell_type": "markdown",
   "id": "02acb2fc-7f60-49ac-91ab-9701bbd6624c",
   "metadata": {},
   "source": [
    "###### .__init__method:\n",
    "###### .Calls the parent class (Elon)__init__method using super().__init__(),which prints \"Profile created\".\n",
    "###### .Then prints \"Company Profile Created\".\n",
    "###### .name method:-This method overrides the name method from the Elon class and prints\"spaceX\".\n",
    "###### .type method:-This new method prints\"Private Space Travel\"."
   ]
  },
  {
   "cell_type": "markdown",
   "id": "f951b987-0590-4829-8183-1fbcb51df3a9",
   "metadata": {},
   "source": [
    "### Creating an instance and Calling Methods"
   ]
  },
  {
   "cell_type": "code",
   "execution_count": 32,
   "id": "2edf8753-6222-4a15-a3f7-c1bed974a557",
   "metadata": {},
   "outputs": [],
   "source": [
    "class Elon:\n",
    "    def __init__(self):\n",
    "        print('Profile Created')\n",
    "\n",
    "    def name(self):\n",
    "        print('Elon Musk')\n",
    "\n",
    "    def age(self):\n",
    "        print('40')\n",
    "\n",
    "class spaceX(Elon):\n",
    "    def __init__(self):\n",
    "        super().__init__()\n",
    "        print('Company Profile Created')\n",
    "\n",
    "    def name(self):\n",
    "        print('spaceX')\n",
    "\n",
    "    def type(self):\n",
    "        print('Private Space Travel')"
   ]
  },
  {
   "cell_type": "code",
   "execution_count": 33,
   "id": "b08d0874-73e2-4096-802d-8c356b290580",
   "metadata": {},
   "outputs": [
    {
     "name": "stdout",
     "output_type": "stream",
     "text": [
      "Profile Created\n",
      "Company Profile Created\n",
      "spaceX\n",
      "40\n",
      "Private Space Travel\n"
     ]
    }
   ],
   "source": [
    "spacex_profile = spaceX()\n",
    "spacex_profile.name()\n",
    "spacex_profile.age()\n",
    "spacex_profile.type()"
   ]
  },
  {
   "cell_type": "markdown",
   "id": "b33d0d46-61a7-4078-a8aa-7038ccfc50d4",
   "metadata": {},
   "source": [
    "### Explanation of Inheritance\n",
    "###### .Inheritance:-SpaceX  inherits from Elon, meaning it has access to the methods and attiributes of Elon\n",
    "###### .Overriding:-The name method in SpaceX override the name method in Elon, providing a different implementation."
   ]
  },
  {
   "cell_type": "markdown",
   "id": "a1660539-a90e-42d9-a1da-990408a7fedf",
   "metadata": {},
   "source": [
    "## Polimorphism"
   ]
  },
  {
   "cell_type": "code",
   "execution_count": 36,
   "id": "f6de3ca9-ab23-4c7b-a690-1693c0655c1d",
   "metadata": {},
   "outputs": [],
   "source": [
    "class Elon:\n",
    "    def __init__(self, name):\n",
    "        self.name = name\n",
    "\n",
    "    def type(self):\n",
    "        return 'Entrepreneur'\n",
    "\n",
    "class Sunder:\n",
    "    def __init__(self, name):\n",
    "        self.name = name\n",
    "\n",
    "    def type(self):\n",
    "        return 'CEO'"
   ]
  },
  {
   "cell_type": "code",
   "execution_count": 37,
   "id": "4dc5f4d3-a928-4555-be93-974a4eb252a2",
   "metadata": {},
   "outputs": [
    {
     "name": "stdout",
     "output_type": "stream",
     "text": [
      "Elon Musk is a Entrepreneur\n",
      "Sunder Pichai is a CEO\n"
     ]
    }
   ],
   "source": [
    "# Creating instance of Elon and Sunder\n",
    "person1 = Elon('Elon Musk')\n",
    "person2 = Sunder('Sunder Pichai')\n",
    "\n",
    "# Function to demostrate polymorphism\n",
    "def print_person_type(person):\n",
    "    print(f'{person.name} is a {person.type()}')\n",
    "\n",
    "# Calling the function with different objects\n",
    "print_person_type(person1)\n",
    "print_person_type(person2)"
   ]
  },
  {
   "cell_type": "markdown",
   "id": "833ca84e-06ae-415f-95c4-d54c3021c2af",
   "metadata": {},
   "source": [
    "###### Polymorphism allows different classes to have methods with the same name that can be called in a unified manner.\n",
    "###### The provided code defines two clases, Elon and sunder , and demostrates the concept of polymorphism in Python.let's break down each part:"
   ]
  },
  {
   "cell_type": "markdown",
   "id": "f1c1732d-e2aa-4b4e-b8e6-cf3903dc8fe0",
   "metadata": {},
   "source": [
    "### Class Definations"
   ]
  },
  {
   "cell_type": "markdown",
   "id": "88aebc5c-74c0-44d6-b57c-77185c611ef8",
   "metadata": {},
   "source": [
    "###### 1.Class Elon:"
   ]
  },
  {
   "cell_type": "code",
   "execution_count": 38,
   "id": "732fa238-0518-421c-8653-7078109e4455",
   "metadata": {},
   "outputs": [],
   "source": [
    "class Elon:\n",
    "    def __init__(self, name):\n",
    "        self.name = name\n",
    "\n",
    "    def types(self):\n",
    "        return 'Entrepreneur'"
   ]
  },
  {
   "cell_type": "markdown",
   "id": "7a10c001-a1e1-428e-ad9c-b3a2ebfe0360",
   "metadata": {},
   "source": [
    "###### . __init__method:-This is the constructor method that initializes an instance of the class with a name attribute.\n",
    "###### .type method:-This method returns the string\"Entrepreneur\""
   ]
  },
  {
   "cell_type": "code",
   "execution_count": 1,
   "id": "05762b21-9653-48ad-be0e-a21eac1e8216",
   "metadata": {},
   "outputs": [],
   "source": [
    "class Sunder:\n",
    "    def __init__(self,name):\n",
    "        self.name = name\n",
    "\n",
    "    def type(self):\n",
    "        return 'CEO'"
   ]
  },
  {
   "cell_type": "markdown",
   "id": "dfde22bc-469f-45b7-90de-16774a90ab26",
   "metadata": {},
   "source": [
    "###### .__init__ Method:- This is the constructor method that initialize an instance of the class with a name attribute.\n",
    "###### .Type methd :- This method returns the string \"CEO\"."
   ]
  },
  {
   "cell_type": "markdown",
   "id": "1e34713c-eabd-4502-9f21-83e6b4988af1",
   "metadata": {},
   "source": [
    "#### Creating Instances"
   ]
  },
  {
   "cell_type": "markdown",
   "id": "b08e88c0-ad7b-4e3e-a2b4-dfa7e90a0478",
   "metadata": {},
   "source": [
    "#### Polymorphism Demonstration"
   ]
  },
  {
   "cell_type": "markdown",
   "id": "24269f6b-0d16-4449-bf13-77848a9d27f8",
   "metadata": {},
   "source": [
    "#### Function Calls"
   ]
  },
  {
   "cell_type": "markdown",
   "id": "a657d226-65b2-45e6-ba60-88a019627d33",
   "metadata": {},
   "source": [
    "#### OutPut"
   ]
  },
  {
   "cell_type": "markdown",
   "id": "665304f2-76aa-4603-92ef-289866efb388",
   "metadata": {},
   "source": [
    "#### Explanation of Polymorphism"
   ]
  },
  {
   "cell_type": "markdown",
   "id": "f6f98410-9ae9-4f0a-8c1b-7b19a9b115f3",
   "metadata": {},
   "source": [
    "#### use one function directly in a Class"
   ]
  },
  {
   "cell_type": "markdown",
   "id": "93f39c0d-29de-472e-8cff-03ab157396ef",
   "metadata": {},
   "source": [
    "#### Using staticmethod\n",
    "###### If the method doesn't require access to instance (self) or class(cls) attributes, you can use staticmethod."
   ]
  },
  {
   "cell_type": "code",
   "execution_count": 2,
   "id": "9229196d-fc04-4b20-9bc8-e7e63e376363",
   "metadata": {},
   "outputs": [
    {
     "name": "stdout",
     "output_type": "stream",
     "text": [
      "3\n"
     ]
    }
   ],
   "source": [
    "class MyClass:\n",
    "    @staticmethod\n",
    "    def my_function(arg1, arg2):\n",
    "        return arg1 + arg2\n",
    "\n",
    "# you can call it directly using the class name\n",
    "result = MyClass.my_function(1, 2)\n",
    "print(result)  #Output:-3"
   ]
  },
  {
   "cell_type": "markdown",
   "id": "963a041e-91c3-4b3a-9d40-2ff2b008f883",
   "metadata": {},
   "source": [
    "#### Using classmethod\n",
    "###### If the method needs access to the class attributes but not instance attributes, use classmethod"
   ]
  },
  {
   "cell_type": "code",
   "execution_count": 3,
   "id": "6951a104-f115-4771-8302-fe2be9ce812e",
   "metadata": {},
   "outputs": [
    {
     "name": "stdout",
     "output_type": "stream",
     "text": [
      "15\n"
     ]
    }
   ],
   "source": [
    "class MyClass:\n",
    "    class_variable = 10\n",
    "\n",
    "    @classmethod\n",
    "    def my_function(cls, arg1):\n",
    "        return cls.class_variable + arg1\n",
    "\n",
    "# You can call it directly using the class name\n",
    "result = MyClass.my_function(5)\n",
    "print(result)"
   ]
  },
  {
   "cell_type": "markdown",
   "id": "0b7b7402-a636-48fa-9fa6-7138b00625d6",
   "metadata": {},
   "source": [
    "#### Using Regular Methods\n",
    "###### If the method needs access to instance attributes, you'll need to create an instance of the class first."
   ]
  },
  {
   "cell_type": "code",
   "execution_count": 4,
   "id": "232b6f04-6f81-4f27-8dd3-9c1d21d07657",
   "metadata": {},
   "outputs": [
    {
     "name": "stdout",
     "output_type": "stream",
     "text": [
      "15\n"
     ]
    }
   ],
   "source": [
    "class MyClass:\n",
    "    def __init__(self, value):\n",
    "        self.value = value\n",
    "\n",
    "    def my_function(self, arg1):\n",
    "        return self.value + arg1\n",
    "\n",
    "# Create an instance of the class\n",
    "instance = MyClass(10)\n",
    "\n",
    "# Call the method using the instance\n",
    "result = instance.my_function(5)\n",
    "print(result)"
   ]
  },
  {
   "cell_type": "markdown",
   "id": "3eebc3c2-40b6-49ba-86a9-69618d289e8f",
   "metadata": {},
   "source": [
    "#### Encapsulation\n",
    "###### Encapsulation isa fundamental concept in object-oriented programming (OOP) that restricts direct access to some of an object's components, which can prevent the accidental modification of data. In Python ], encapsulation is implemented using private and protected members.\n",
    "\n",
    "###### Here's a breakdown of how encapsulation works in Python:"
   ]
  },
  {
   "cell_type": "markdown",
   "id": "cf23779a-6295-457c-8729-72d5349d20ab",
   "metadata": {},
   "source": [
    "#### Public Members\n",
    "###### These are accessible from outside the class. By default,all members of a class are public."
   ]
  },
  {
   "cell_type": "code",
   "execution_count": 5,
   "id": "a210eec7-e130-4aea-8bb0-ff491dea897a",
   "metadata": {},
   "outputs": [
    {
     "name": "stdout",
     "output_type": "stream",
     "text": [
      "10\n"
     ]
    }
   ],
   "source": [
    "class MyClass:\n",
    "    def __init__(self, value):\n",
    "        self.value = value\n",
    "\n",
    "obj = MyClass(10)\n",
    "print(obj.value)"
   ]
  },
  {
   "cell_type": "markdown",
   "id": "2b7c955a-2c7c-4d9f-8cab-9f29fef9ff1c",
   "metadata": {},
   "source": [
    "#### Protected Members"
   ]
  },
  {
   "cell_type": "markdown",
   "id": "ba005a98-c28b-40ce-81b7-4c4db1cf18da",
   "metadata": {},
   "source": [
    "###### These are indicated by asingle underscore _ before the member name. This is a convention and notenforced by Python. it suggests that the member is intendd for internal use only."
   ]
  },
  {
   "cell_type": "code",
   "execution_count": 6,
   "id": "a40450f1-54fd-45e3-80bd-f15e23de6c98",
   "metadata": {},
   "outputs": [
    {
     "name": "stdout",
     "output_type": "stream",
     "text": [
      "10\n"
     ]
    }
   ],
   "source": [
    "class MyClass:\n",
    "    def __init__(self, value):\n",
    "        self._value = value\n",
    "\n",
    "    def _protected_method(self):\n",
    "        return self._value\n",
    "\n",
    "obj = MyClass(10)\n",
    "print(obj._value)"
   ]
  },
  {
   "cell_type": "code",
   "execution_count": 7,
   "id": "b9df0c62-650d-4b5c-b7e1-3ac114f06666",
   "metadata": {},
   "outputs": [
    {
     "data": {
      "text/plain": [
       "10"
      ]
     },
     "execution_count": 7,
     "metadata": {},
     "output_type": "execute_result"
    }
   ],
   "source": [
    "obj._protected_method()"
   ]
  },
  {
   "cell_type": "markdown",
   "id": "9e7924da-4eef-4ed6-9917-737450cdc8e2",
   "metadata": {},
   "source": [
    "#### private Members"
   ]
  },
  {
   "cell_type": "markdown",
   "id": "d76a5bd9-cf0b-479f-bfb6-6beeebcfa841",
   "metadata": {},
   "source": [
    "###### These are indicated by a double underscore _ before the members name. This triggers name mangling, where the interpreter changes the nane of the member to include the class name. This makes it harder to access these members from outside the class."
   ]
  },
  {
   "cell_type": "code",
   "execution_count": 8,
   "id": "2f4d4f12-3be3-442f-a6bd-fad01b059318",
   "metadata": {},
   "outputs": [
    {
     "name": "stdout",
     "output_type": "stream",
     "text": [
      "10\n"
     ]
    }
   ],
   "source": [
    "class MyClass:\n",
    "    def __init__(self, value):\n",
    "        self.__value = value\n",
    "\n",
    "    def get_value(self):\n",
    "        return self.__value\n",
    "\n",
    "obj = MyClass(10)\n",
    "\n",
    "# Print(obj.__value)  # This will raise an attributeError\n",
    "print(obj.get_value())"
   ]
  },
  {
   "cell_type": "code",
   "execution_count": 9,
   "id": "c92716ce-35e8-44d7-a426-be17e0d8f3ae",
   "metadata": {},
   "outputs": [
    {
     "ename": "AttributeError",
     "evalue": "'MyClass' object has no attribute '__value'",
     "output_type": "error",
     "traceback": [
      "\u001b[1;31m---------------------------------------------------------------------------\u001b[0m",
      "\u001b[1;31mAttributeError\u001b[0m                            Traceback (most recent call last)",
      "Cell \u001b[1;32mIn[9], line 1\u001b[0m\n\u001b[1;32m----> 1\u001b[0m \u001b[38;5;28mprint\u001b[39m(obj\u001b[38;5;241m.\u001b[39m__value)\n",
      "\u001b[1;31mAttributeError\u001b[0m: 'MyClass' object has no attribute '__value'"
     ]
    }
   ],
   "source": [
    "print(obj.__value)"
   ]
  },
  {
   "cell_type": "code",
   "execution_count": 10,
   "id": "825bf325-7f91-44d3-b835-3e595ac5f1df",
   "metadata": {},
   "outputs": [
    {
     "name": "stdout",
     "output_type": "stream",
     "text": [
      "10\n"
     ]
    }
   ],
   "source": [
    "# However, you can still access private members if you know the name mangling\n",
    "print(obj._MyClass__value)"
   ]
  },
  {
   "cell_type": "markdown",
   "id": "27395e1b-8798-4008-83a6-417b258640d1",
   "metadata": {},
   "source": [
    "#### Using Getter and Setter Methods "
   ]
  },
  {
   "cell_type": "code",
   "execution_count": 11,
   "id": "45dde5e0-f4e0-4d5b-b844-d70cedfabbcd",
   "metadata": {},
   "outputs": [
    {
     "name": "stdout",
     "output_type": "stream",
     "text": [
      "10\n",
      "20\n"
     ]
    }
   ],
   "source": [
    "class MyClass:\n",
    "    def __init__(self, value):\n",
    "        self.__value = value\n",
    "\n",
    "    def get_value(self):\n",
    "        return self.__value\n",
    "\n",
    "    def set_value(self, value):\n",
    "        self.__value = value\n",
    "\n",
    "obj = MyClass(10)\n",
    "print(obj.get_value())\n",
    "obj.set_value(20)\n",
    "print(obj.get_value())"
   ]
  },
  {
   "cell_type": "markdown",
   "id": "0ba64ace-bf14-4f29-9f7a-c0217f152f05",
   "metadata": {},
   "source": [
    "#### Properties\n",
    "###### Python provided a more elegant way to use getter and setter methods through properties."
   ]
  },
  {
   "cell_type": "code",
   "execution_count": 13,
   "id": "54b265d7-c285-4f8e-b555-6e8dfc40526f",
   "metadata": {},
   "outputs": [
    {
     "name": "stdout",
     "output_type": "stream",
     "text": [
      "10\n",
      "20\n"
     ]
    }
   ],
   "source": [
    "class MyClass:\n",
    "    def __init__(self, value):\n",
    "        self.__value = value\n",
    "\n",
    "    @property\n",
    "    def value(self):\n",
    "        return self.__value\n",
    "\n",
    "    @value.setter\n",
    "    def value(self, value):\n",
    "        self.__value = value\n",
    "\n",
    "obj = MyClass(10)\n",
    "print(obj.value)\n",
    "obj.value = 20\n",
    "print(obj.value)"
   ]
  },
  {
   "cell_type": "markdown",
   "id": "0fecabaa-6e8a-4dcc-8fdf-4feeccf5ca3d",
   "metadata": {},
   "source": [
    "###### In summary, encapsulation in Python helps protect the internal state of an object by restricting access to private and protected members, promoting modularity and maintainability in the code."
   ]
  },
  {
   "cell_type": "code",
   "execution_count": null,
   "id": "d036cdf0-c8e4-40fd-9d6e-ed1bbe5e40cf",
   "metadata": {},
   "outputs": [],
   "source": []
  }
 ],
 "metadata": {
  "kernelspec": {
   "display_name": "Python 3 (ipykernel)",
   "language": "python",
   "name": "python3"
  },
  "language_info": {
   "codemirror_mode": {
    "name": "ipython",
    "version": 3
   },
   "file_extension": ".py",
   "mimetype": "text/x-python",
   "name": "python",
   "nbconvert_exporter": "python",
   "pygments_lexer": "ipython3",
   "version": "3.11.7"
  }
 },
 "nbformat": 4,
 "nbformat_minor": 5
}
